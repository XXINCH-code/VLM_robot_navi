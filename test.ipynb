{
 "cells": [
  {
   "cell_type": "code",
   "execution_count": 1,
   "id": "0d465ddb",
   "metadata": {},
   "outputs": [
    {
     "name": "stderr",
     "output_type": "stream",
     "text": [
      "pybullet build time: Nov 28 2023 23:52:03\n"
     ]
    }
   ],
   "source": [
    "import pybullet as p\n",
    "import pybullet_data\n",
    "import numpy as np\n",
    "\n",
    "# 初始化PyBullet\n",
    "p.connect(p.DIRECT)  # 或者使用 p.GUI 连接GUI\n",
    "\n",
    "# 加载机器人的 URDF 模型\n",
    "robot_id = p.loadURDF(\"crowd_sim/pybullet/media/turtlebot2/turtlebot.urdf\", basePosition=[0, 0, 0.5])\n",
    "\n",
    "# 相机的位置和朝向设置（假设相机在机器人头部）\n",
    "camera_position = [0, 0, 1.0]  # 相机在机器人头部上方 1.0 米\n",
    "camera_target = [0, 0, 0.5]  # 相机指向机器人的中心位置（如头部）\n",
    "camera_up = [0, 1, 0]  # 上方向是 Y 轴\n",
    "\n",
    "# 计算视场角度（FoV）\n",
    "fov = 90  # 摄像机视场角度（度）\n",
    "aspect_ratio = 1.0  # 显示图像的宽高比\n",
    "near_plane = 0.1  # 近裁剪平面\n",
    "far_plane = 50  # 远裁剪平面\n",
    "\n",
    "# 获取摄像头视角图像\n",
    "width = 640  # 图像宽度\n",
    "height = 480  # 图像高度\n",
    "\n",
    "# 获取相机图像数据\n",
    "image = p.getCameraImage(\n",
    "    width, height, viewMatrix=p.computeViewMatrixFromYawPitchRoll(\n",
    "        camera_position, 1.0, 90, 0, 0, 0),  # 调整为头部摄像机的视角\n",
    "    projectionMatrix=p.computeProjectionMatrixFOV(fov, aspect_ratio, near_plane, far_plane)\n",
    ")\n",
    "\n",
    "# 图像数据包含 RGB 和深度图\n",
    "rgb_image = np.array(image[2])  # RGB图像数据\n",
    "depth_image = np.array(image[3])  # 深度图数据\n"
   ]
  },
  {
   "cell_type": "code",
   "execution_count": null,
   "id": "98906a0d",
   "metadata": {},
   "outputs": [],
   "source": []
  }
 ],
 "metadata": {
  "kernelspec": {
   "display_name": "navirobo",
   "language": "python",
   "name": "python3"
  },
  "language_info": {
   "codemirror_mode": {
    "name": "ipython",
    "version": 3
   },
   "file_extension": ".py",
   "mimetype": "text/x-python",
   "name": "python",
   "nbconvert_exporter": "python",
   "pygments_lexer": "ipython3",
   "version": "3.9.13"
  }
 },
 "nbformat": 4,
 "nbformat_minor": 5
}
